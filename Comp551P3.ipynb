{
  "nbformat": 4,
  "nbformat_minor": 0,
  "metadata": {
    "colab": {
      "name": "Comp551P3",
      "provenance": [],
      "collapsed_sections": []
    },
    "kernelspec": {
      "name": "python3",
      "display_name": "Python 3"
    },
    "language_info": {
      "name": "python"
    },
    "accelerator": "GPU"
  },
  "cells": [
    {
      "cell_type": "markdown",
      "metadata": {
        "id": "UzfKY_7jNb4u"
      },
      "source": [
        "# Project 3: Multi-label Classification of Image Data (GROUP 65)\n",
        " Kynan Nedellec (260866794), Viet Tran (260924954), Oliver Stappas (260930067)\n"
      ]
    },
    {
      "cell_type": "code",
      "metadata": {
        "id": "PzNzZy7UuZK1"
      },
      "source": [
        "import pickle\n",
        "import torch\n",
        "import torchvision\n",
        "import torchvision.transforms as transforms\n",
        "from torch.utils.data import TensorDataset, DataLoader\n",
        "import numpy as np\n",
        "import torch.nn as nn\n",
        "import torch.nn.functional as F\n",
        "import torch.optim as optim\n",
        "from torchvision import datasets, transforms, models\n",
        "import matplotlib.pyplot as plt\n",
        "import numpy as np\n",
        "import pandas as pd\n",
        "import torchvision.models as models\n",
        "import cv2\n",
        "import matplotlib.ticker as mtick"
      ],
      "execution_count": null,
      "outputs": []
    },
    {
      "cell_type": "markdown",
      "metadata": {
        "id": "WgktLmwUwBeo"
      },
      "source": [
        "#**Helper functions and classes**"
      ]
    },
    {
      "cell_type": "code",
      "metadata": {
        "id": "s4WTDCYmOZz8"
      },
      "source": [
        "# Preprocessing data\n",
        "class MyCustomDataset(torch.utils.data.Dataset):\n",
        "    def __init__(self, data, labels=None, transforms=None):\n",
        "        self.data = data.reshape(data.shape[0], data.shape[1], data.shape[2], 1)\n",
        "        self.labels = labels\n",
        "        self.transforms = transforms\n",
        "\n",
        "    def __getitem__(self, index):\n",
        "        \n",
        "        data = self.data[index]\n",
        "\n",
        "        if transforms is not None:\n",
        "            data = self.transforms(self.data[index])\n",
        "\n",
        "        if self.labels is not None:\n",
        "            return (data, self.labels[index])\n",
        "\n",
        "        return data\n",
        "\n",
        "    def __len__(self):\n",
        "        return self.data.shape[0]"
      ],
      "execution_count": null,
      "outputs": []
    },
    {
      "cell_type": "markdown",
      "metadata": {
        "id": "XRgTs-mSkpfT"
      },
      "source": [
        "# **Importing data**"
      ]
    },
    {
      "cell_type": "code",
      "metadata": {
        "id": "U1yHuLx7OYAE"
      },
      "source": [
        "# Importing and Reading files\n",
        "with open(\"images_l.pkl\", \"rb\") as f:\n",
        "    data = pickle.load(f)\n",
        "with open(\"labels_l.pkl\", \"rb\") as f:\n",
        "    labels = pickle.load(f)\n",
        "with open(\"images_test.pkl\", \"rb\") as f:\n",
        "    test = pickle.load(f)\n",
        "\n",
        "for i in range(9):\n",
        "  # define subplot\n",
        "  plt.subplot(330 + 1 + i)\n",
        "  # plot raw pixel data\n",
        "  plt.imshow(data[i])\n",
        "# show the figure\n",
        "plt.show()\n"
      ],
      "execution_count": null,
      "outputs": []
    },
    {
      "cell_type": "code",
      "metadata": {
        "id": "pohj7Bqniv4Y"
      },
      "source": [
        "#Converting labels from binary\n",
        "def combine(labels):\n",
        "    new_labels = []\n",
        "    for label in labels:\n",
        "        digits = label[:10]\n",
        "        characters = label[10:]\n",
        "        new_labels.append((np.nonzero(digits)[0] * 26 + np.nonzero(characters)[0])[0])\n",
        "    return new_labels\n",
        "\n",
        "new_labels = combine(labels)\n"
      ],
      "execution_count": null,
      "outputs": []
    },
    {
      "cell_type": "markdown",
      "metadata": {
        "id": "dfbuz08awiaD"
      },
      "source": [
        "####Preprocess and split the data"
      ]
    },
    {
      "cell_type": "code",
      "metadata": {
        "id": "wX1yRYV2wbMG"
      },
      "source": [
        "# Splitting dataset\n",
        "train_size = int(0.8 * (len(data)))\n",
        "\n",
        "x_validation = data[train_size:]\n",
        "y_validation = new_labels[train_size:]\n",
        "x_train = data[:train_size]\n",
        "y_train = new_labels[:train_size]\n",
        "\n",
        "train_dataset = MyCustomDataset(\n",
        "    x_train,\n",
        "    y_train,\n",
        "    transforms.Compose(\n",
        "        [\n",
        "            transforms.ToTensor(),\n",
        "            transforms.Normalize(np.mean(x_train), np.std(x_train)),\n",
        "            torchvision.transforms.RandomAffine(\n",
        "                5, translate=(0.1, 0.1), scale=(0.9, 1.1), shear=0.1\n",
        "            ),\n",
        "        ]\n",
        "    ),\n",
        ")\n",
        "\n",
        "validation_dataset = MyCustomDataset(\n",
        "    x_validation,\n",
        "    y_validation,\n",
        "    transforms.Compose(\n",
        "        [\n",
        "            transforms.ToTensor(),\n",
        "            transforms.Normalize(np.mean(x_validation), np.std(x_validation)),\n",
        "        ]\n",
        "    ),\n",
        ")\n",
        "\n",
        "dataset_loader = torch.utils.data.DataLoader(\n",
        "    dataset=train_dataset, batch_size=128, shuffle=True\n",
        ")\n",
        "validation_loader = torch.utils.data.DataLoader(\n",
        "    dataset=validation_dataset, batch_size=128, shuffle=False\n",
        ")"
      ],
      "execution_count": null,
      "outputs": []
    },
    {
      "cell_type": "code",
      "metadata": {
        "id": "EehDAQnVbbf3"
      },
      "source": [
        "# test data\n",
        "test_dataset = MyCustomDataset(\n",
        "    test,\n",
        "    transforms=transforms.Compose(\n",
        "        [transforms.ToTensor(), transforms.Normalize(np.mean(test), np.std(test))]\n",
        "    ),\n",
        ")\n",
        "test_loader = torch.utils.data.DataLoader(\n",
        "    dataset=test_dataset, batch_size=128, shuffle=False\n",
        ")\n"
      ],
      "execution_count": null,
      "outputs": []
    },
    {
      "cell_type": "markdown",
      "metadata": {
        "id": "YWsoLHy9kxFE"
      },
      "source": [
        "# **Training Methods**"
      ]
    },
    {
      "cell_type": "code",
      "metadata": {
        "id": "zzMnqHfNW6PH"
      },
      "source": [
        "device = torch.device(\"cuda:0\" if torch.cuda.is_available() else \"cpu\")"
      ],
      "execution_count": null,
      "outputs": []
    },
    {
      "cell_type": "code",
      "metadata": {
        "id": "4F4tFxriXAL_"
      },
      "source": [
        "# train the network\n",
        "def train_model(net, criterion, optimizer, num_epochs):\n",
        "    for epoch in range(num_epochs):  # loop over the dataset multiple times\n",
        "        print(\"Training epoch %d\" % (epoch + 1))\n",
        "\n",
        "        running_loss = 0.0\n",
        "        for i, data in enumerate(dataset_loader, 0):\n",
        "            # get the inputs; data is a list of [inputs, labels]\n",
        "\n",
        "            inputs, labels = data[0].to(device), data[1].to(device)\n",
        "            # zero the parameter gradients\n",
        "            optimizer.zero_grad()\n",
        "\n",
        "            # forward + backward + optimize\n",
        "            outputs = net(inputs.float())\n",
        "\n",
        "            loss = criterion(outputs, labels)\n",
        "            loss.backward()\n",
        "            optimizer.step()\n",
        "            # print statistics\n",
        "            running_loss += loss.item()\n",
        "            if i % 25 == 24:  # print every 100 mini-batches\n",
        "                print(\"\\t[Minibatches %d] loss: %.4f\" % (i + 1, running_loss / 25))\n",
        "                running_loss = 0.0\n"
      ],
      "execution_count": null,
      "outputs": []
    },
    {
      "cell_type": "markdown",
      "metadata": {
        "id": "OzRbM54ajMJK"
      },
      "source": [
        "# **Final Model Definition**"
      ]
    },
    {
      "cell_type": "markdown",
      "metadata": {
        "id": "Gv2qqRWElCNJ"
      },
      "source": [
        "## Mnasnet"
      ]
    },
    {
      "cell_type": "code",
      "metadata": {
        "id": "bg4t51h8jXHP"
      },
      "source": [
        "# mnasnet0_5\n",
        "mnasnet0_5 = models.mnasnet0_5(num_classes=260, pretrained=False)\n",
        "mnasnet0_5.layers[0] = nn.Conv2d(1, 16, kernel_size=(3, 3), stride=(2, 2), padding=(1, 1), bias=False)\n",
        "\n",
        "train_model(\n",
        "    mnasnet0_5.to(device),\n",
        "    nn.CrossEntropyLoss(),\n",
        "    optim.Adam(mnasnet0_5.parameters(), lr=0.001, weight_decay=1e-5),\n",
        "    5,\n",
        ")\n"
      ],
      "execution_count": null,
      "outputs": []
    },
    {
      "cell_type": "markdown",
      "metadata": {
        "id": "ffcSlti5lH5n"
      },
      "source": [
        "## Densenet"
      ]
    },
    {
      "cell_type": "code",
      "metadata": {
        "id": "TAvWcnQ9jZGk"
      },
      "source": [
        "# densenet201\n",
        "densenet201 = models.densenet201(num_classes=260, pretrained=False)\n",
        "densenet201.features[0] = nn.Conv2d(\n",
        "    1, 64, kernel_size=(7, 7), stride=(2, 2), padding=(3, 3), bias=False\n",
        ")\n",
        "\n",
        "train_model(\n",
        "    densenet201.to(device),\n",
        "    nn.CrossEntropyLoss(),\n",
        "    optim.Adam(densenet201.parameters(), lr=0.001, weight_decay=1e-5),\n",
        "    35,\n",
        ")"
      ],
      "execution_count": null,
      "outputs": []
    },
    {
      "cell_type": "markdown",
      "metadata": {
        "id": "BFPEmEvWlNAR"
      },
      "source": [
        "## Regnet"
      ]
    },
    {
      "cell_type": "code",
      "metadata": {
        "id": "cy8X1CAXjj0l"
      },
      "source": [
        "# regnet_y_400mf\n",
        "regnet_y_400mf = models.regnet_y_400mf(num_classes=260, pretrained=False)\n",
        "regnet_y_400mf.stem[0] = nn.Conv2d(\n",
        "    1, 32, kernel_size=(3, 3), stride=(2, 2), padding=(1, 1), bias=False\n",
        ")\n",
        "train_model(\n",
        "    regnet_y_400mf.to(device),\n",
        "    nn.CrossEntropyLoss(),\n",
        "    optim.Adam(regnet_y_400mf.parameters(), lr=0.001, weight_decay=1e-5),\n",
        "    50,)"
      ],
      "execution_count": null,
      "outputs": []
    },
    {
      "cell_type": "markdown",
      "metadata": {
        "id": "BlW3bOmVlOsC"
      },
      "source": [
        "## VGG"
      ]
    },
    {
      "cell_type": "markdown",
      "metadata": {
        "id": "HkzPehCKLIwp"
      },
      "source": [
        "### VGG 19"
      ]
    },
    {
      "cell_type": "code",
      "metadata": {
        "id": "_3IP_Kp7jmnm"
      },
      "source": [
        "vgg19 = models.vgg19_bn(\n",
        "    num_classes=260,\n",
        "    pretrained=False,\n",
        ")\n",
        "vgg19.features[0] = nn.Conv2d(1, 64, kernel_size=(3, 3), stride=(1, 1), padding=(1, 1))\n",
        "\n",
        "train_model(\n",
        "    vgg19.to(device),\n",
        "    nn.CrossEntropyLoss(),\n",
        "    optim.SGD(vgg19.parameters(), lr=0.01, momentum=0.9),\n",
        "    60,\n",
        ")"
      ],
      "execution_count": null,
      "outputs": []
    },
    {
      "cell_type": "markdown",
      "metadata": {
        "id": "VabF1vlTLO_R"
      },
      "source": [
        "### VGG 16"
      ]
    },
    {
      "cell_type": "code",
      "metadata": {
        "id": "yzkYgYisjtbK"
      },
      "source": [
        "vgg16 = models.vgg16_bn(\n",
        "    num_classes=260,\n",
        "    pretrained=False,\n",
        ")\n",
        "vgg16.features[0] = nn.Conv2d(1, 64, kernel_size=(3, 3), stride=(1, 1), padding=(1, 1))\n",
        "\n",
        "train_model(\n",
        "    vgg16.to(device),\n",
        "    nn.CrossEntropyLoss(),\n",
        "    optim.SGD(vgg16.parameters(), lr=0.01, momentum=0.9),\n",
        "    60,\n",
        ")"
      ],
      "execution_count": null,
      "outputs": []
    },
    {
      "cell_type": "markdown",
      "metadata": {
        "id": "PaNYucdNT0Sx"
      },
      "source": [
        "### VGG 19 (NO ROTATIONS)\n",
        "* THIS WAS RUN ON A LOADER WITH MINIMAL ROTATIONS, TO INCLUDE IN THE VOTING *"
      ]
    },
    {
      "cell_type": "code",
      "metadata": {
        "id": "UuXhsCphTzxC"
      },
      "source": [
        "vgg19_NO_ROTATIONS = models.vgg19_bn(\n",
        "    num_classes=260,\n",
        "    pretrained=False,\n",
        ")\n",
        "vgg19_NO_ROTATIONS.features[0] = nn.Conv2d(1, 64, kernel_size=(3, 3), stride=(1, 1), padding=(1, 1))\n",
        "\n",
        "train_model(\n",
        "    vgg19_NO_ROTATIONS.to(device),\n",
        "    nn.CrossEntropyLoss(),\n",
        "    optim.SGD(vgg19_NO_ROTATIONS.parameters(), lr=0.01, momentum=0.9),\n",
        "    60,\n",
        ")"
      ],
      "execution_count": null,
      "outputs": []
    },
    {
      "cell_type": "markdown",
      "metadata": {
        "id": "bxnBD6hAlQVh"
      },
      "source": [
        "## Resnet"
      ]
    },
    {
      "cell_type": "markdown",
      "metadata": {
        "id": "uKgg5edFLV59"
      },
      "source": [
        "### Resnet 18"
      ]
    },
    {
      "cell_type": "code",
      "metadata": {
        "id": "2AcU_GyXjv12"
      },
      "source": [
        "# Resnet 18\n",
        "resnet18 = models.resnet18(num_classes=260, pretrained=False)\n",
        "resnet18.conv1 = nn.Conv2d(1, 64, kernel_size=7, stride=2, padding=3, bias=False)\n",
        "train_model(\n",
        "    resnet18.to(device),\n",
        "    nn.CrossEntropyLoss(),\n",
        "    optim.Adam(resnet18.parameters(), lr=0.001, weight_decay=1e-5),\n",
        "    50,\n",
        ")\n"
      ],
      "execution_count": null,
      "outputs": []
    },
    {
      "cell_type": "markdown",
      "metadata": {
        "id": "40KLh-ZZLYhr"
      },
      "source": [
        "### Resnet 152"
      ]
    },
    {
      "cell_type": "code",
      "metadata": {
        "id": "X1vXpiGDjzw0"
      },
      "source": [
        "# Resnet 152\n",
        "\n",
        "resnet152 = models.resnet152(num_classes=260, pretrained=False)\n",
        "resnet152.conv1 = nn.Conv2d(1, 64, kernel_size=7, stride=2, padding=3, bias=False)\n",
        "train_model(\n",
        "    resnet152.to(device),\n",
        "    nn.CrossEntropyLoss(),\n",
        "    optim.Adam(resnet152.parameters(), lr=0.001, weight_decay=1e-5),\n",
        "    50,\n",
        ")"
      ],
      "execution_count": null,
      "outputs": []
    },
    {
      "cell_type": "markdown",
      "metadata": {
        "id": "SqiBiSgglC0F"
      },
      "source": [
        "## Custom Network"
      ]
    },
    {
      "cell_type": "code",
      "metadata": {
        "id": "xrn-ULC7W548"
      },
      "source": [
        "class Net(nn.Module):\n",
        "    def __init__(self):\n",
        "        super(Net, self).__init__()\n",
        "\n",
        "        self.conv1 = nn.Conv2d(in_channels=1, out_channels=32, kernel_size=3)\n",
        "        self.conv2 = nn.Conv2d(in_channels=32, out_channels=64, kernel_size=3)\n",
        "        self.conv3 = nn.Conv2d(in_channels=64, out_channels=128, kernel_size=3)\n",
        "\n",
        "        self.pool = nn.MaxPool2d(2, 2)\n",
        "        self.batch32 = nn.BatchNorm2d(32)\n",
        "        self.batch64 = nn.BatchNorm2d(64)\n",
        "        self.batch128 = nn.BatchNorm2d(128)\n",
        "        self.dropout20 = nn.Dropout(p=0.2)\n",
        "        self.fc1 = nn.Linear(\n",
        "            in_features=3200, out_features=1600\n",
        "        )  # TODO adjust if add conv layers\n",
        "        self.fc2 = nn.Linear(in_features=1600, out_features=800)\n",
        "        self.fc3 = nn.Linear(in_features=800, out_features=260)\n",
        "\n",
        "    def forward(self, x):\n",
        "        x = self.pool(self.batch32(F.relu(self.conv1(x))))\n",
        "        x = self.pool(self.batch64(F.relu(self.conv2(x))))\n",
        "        x = self.pool(self.batch128(F.relu(self.conv3(x))))\n",
        "        x = x.view(-1, self.num_flat_features(x))\n",
        "        x = F.relu(self.fc1(x))\n",
        "        x = self.dropout20(x)\n",
        "        x = F.relu(self.fc2(x))\n",
        "        x = self.dropout20(x)\n",
        "        x = self.fc3(x)\n",
        "\n",
        "        return x\n",
        "\n",
        "    def num_flat_features(self, x):\n",
        "        size = x.size()[1:]  # all dimensions except the batch dimension\n",
        "        num_features = 1\n",
        "        for s in size:\n",
        "            num_features *= s\n",
        "        return num_features"
      ],
      "execution_count": null,
      "outputs": []
    },
    {
      "cell_type": "markdown",
      "metadata": {
        "id": "8-KEjqiXL5gA"
      },
      "source": [
        "## Training Custom Network"
      ]
    },
    {
      "cell_type": "code",
      "metadata": {
        "id": "nSLPza_Uj0Sn"
      },
      "source": [
        "custom_net = Net().to(device)\n",
        "train_model(\n",
        "    custom_net,\n",
        "    nn.CrossEntropyLoss(),\n",
        "    optim.Adam(custom_net.parameters(), lr=0.0005, weight_decay=1e-5),\n",
        "    50,\n",
        ")"
      ],
      "execution_count": null,
      "outputs": []
    },
    {
      "cell_type": "markdown",
      "metadata": {
        "id": "4icpbDL4lRvc"
      },
      "source": [
        "## Combined Model"
      ]
    },
    {
      "cell_type": "code",
      "metadata": {
        "id": "9mWfKV19kcmR"
      },
      "source": [
        "class MyEnsemble(nn.Module):\n",
        "\n",
        "    def __init__(self, modelA, modelB, modelC, modelD, input):\n",
        "        super(MyEnsemble, self).__init__()\n",
        "        self.modelA = modelA\n",
        "        self.modelB = modelB\n",
        "        self.modelC = modelC\n",
        "        self.modelD = modelD\n",
        "        self.modelA.fc = nn.Identity()\n",
        "        self.modelB.fc = nn.Identity()\n",
        "        self.modelC.fc = nn.Identity()\n",
        "        self.modelB.fc3 = nn.Identity()\n",
        "\n",
        "        self.classifier = nn.Linear(1040, input)\n",
        "\n",
        "    def forward(self, x):\n",
        "        x1 = self.modelA(x.clone())  # clone to make sure x is not changed by inplace methods\n",
        "        x1 = x1.view(x1.size(0), -1)\n",
        "        x2 = self.modelB(x.clone())\n",
        "        x2 = x2.view(x2.size(0), -1)\n",
        "        x3 = self.modelA(x.clone())  # clone to make sure x is not changed by inplace methods\n",
        "        x3 = x3.view(x3.size(0), -1)\n",
        "        x4 = self.modelA(x)  # clone to make sure x is not changed by inplace methods\n",
        "        x4 = x1.view(x4.size(0), -1)\n",
        "        x = torch.cat((x1, x2, x2, x3), dim=1)\n",
        "        \n",
        "        x = self.classifier(F.relu(x))\n",
        "        return x"
      ],
      "execution_count": null,
      "outputs": []
    },
    {
      "cell_type": "code",
      "metadata": {
        "id": "4Dfx7zzDkd6V"
      },
      "source": [
        "models_list = [densenet201, resnet18, vgg16, custom_net]\n",
        "for m in models_list:\n",
        "    for param in m.parameters():\n",
        "        param.requires_grad = False"
      ],
      "execution_count": null,
      "outputs": []
    },
    {
      "cell_type": "code",
      "metadata": {
        "id": "MwbMTaOZkf7g"
      },
      "source": [
        "model = MyEnsemble(densenet201, resnet18, vgg16, custom_net,260)"
      ],
      "execution_count": null,
      "outputs": []
    },
    {
      "cell_type": "markdown",
      "metadata": {
        "id": "7PQ0KLo6xRai"
      },
      "source": [
        "# **Model analysis**\n"
      ]
    },
    {
      "cell_type": "code",
      "metadata": {
        "id": "zY7WRCUN9T8m"
      },
      "source": [
        "def test_accuracy(dataset_loader,net):\n",
        "    correct = 0\n",
        "    total = 0\n",
        "    net.eval()\n",
        "    with torch.no_grad():\n",
        "        for data in dataset_loader:\n",
        "            images, labels = data[0].to(device), data[1].to(device)\n",
        "            outputs = net(images.float())\n",
        "            _, predicted = torch.max(outputs.data, 1)\n",
        "            total += labels.size(0)\n",
        "            correct += (predicted == labels).sum().item()\n",
        "    return correct / total"
      ],
      "execution_count": null,
      "outputs": []
    },
    {
      "cell_type": "markdown",
      "metadata": {
        "id": "JoYa2WbQlVB1"
      },
      "source": [
        "# Voting"
      ]
    },
    {
      "cell_type": "code",
      "metadata": {
        "id": "W_E0j7t0j-8h"
      },
      "source": [
        "# Voting\n",
        "def predict_vote(models, loader, test=False):\n",
        "    predictions = []\n",
        "    num_models = len(models)\n",
        "    \n",
        "    with torch.no_grad():\n",
        "        for data in loader:\n",
        "            \n",
        "            if test:\n",
        "                images = data.to(device)\n",
        "            else:\n",
        "                images, _ = data[0].to(device), data[1].to(device)\n",
        "            batch_prediction = []\n",
        "            \n",
        "            for model in models:   \n",
        "                model.eval()\n",
        "                outputs = model(images.float())\n",
        "                _, predicted = torch.max(outputs.data, 1)\n",
        "                batch_prediction.append(torch.Tensor.cpu(predicted).numpy())\n",
        "                \n",
        "            batch_copy = np.zeros(len(batch_prediction[0]))\n",
        "            \n",
        "            for i in range(len(batch_prediction[0])):\n",
        "                index_prediction = []\n",
        "                \n",
        "                for j in range(num_models):\n",
        "                    index_prediction.append(batch_prediction[j][i])\n",
        "                    \n",
        "                values, counts = np.unique(np.array(index_prediction), return_counts=True)\n",
        "                max_index = np.argmax(counts)\n",
        "                \n",
        "                \n",
        "                if len(np.argwhere(counts == np.amax(counts))) > 1:\n",
        "                    for k,_ in enumerate(models):\n",
        "                        print(k, values)\n",
        "                        print(index_prediction)\n",
        "                        if index_prediction[k] in values:\n",
        "                            batch_copy[i] = index_prediction[k]\n",
        "                            break\n",
        "                else:\n",
        "                   batch_copy[i] = values[max_index]\n",
        "                   \n",
        "            predictions.append(batch_copy)\n",
        "    return predictions\n"
      ],
      "execution_count": null,
      "outputs": []
    },
    {
      "cell_type": "code",
      "metadata": {
        "id": "WfJmn_SMkCI5"
      },
      "source": [
        "models_list = [\n",
        "    vgg19.to(device),\n",
        "    vgg19_NO_ROTATIONS.to(device),\n",
        "    vgg16.to(device),\n",
        "    resnet152.to(device),\n",
        "    resnet18.to(device),\n",
        "    densenet201.to(device),\n",
        "    resnet18.to(device),\n",
        "    regnet_y_400mf.to(device),\n",
        "    custom_net.to(device),\n",
        "    model.to(device),\n",
        "    mnasnet0_5.to(device),\n",
        "]\n",
        "    "
      ],
      "execution_count": null,
      "outputs": []
    },
    {
      "cell_type": "code",
      "metadata": {
        "id": "sqDmES0TkDXV"
      },
      "source": [
        "ensemble_predict = predict_vote(models_list, validation_loader)\n",
        "correct = 0\n",
        "total = 0\n",
        "for i, data in enumerate(validation_loader):\n",
        "    _, labels = data[0].to(device), data[1].to(device)\n",
        "\n",
        "    total += labels.size(0)\n",
        "    correct += (torch.Tensor(ensemble_predict[i]).cuda() == labels).sum().item()\n",
        "print(correct / total)"
      ],
      "execution_count": null,
      "outputs": []
    },
    {
      "cell_type": "code",
      "metadata": {
        "id": "-PHM-qGckUu2"
      },
      "source": [
        "#Decoder\n",
        "def decoder(value):\n",
        "    actual_label = np.zeros(36)\n",
        "    digit = int(value / 26)\n",
        "    character = int(value % 26)\n",
        "    actual_label[digit] = 1\n",
        "    actual_label[character + 10] = 1\n",
        "    return actual_label"
      ],
      "execution_count": null,
      "outputs": []
    },
    {
      "cell_type": "markdown",
      "metadata": {
        "id": "oyFh06CZlePM"
      },
      "source": [
        "# Test Predictions"
      ]
    },
    {
      "cell_type": "code",
      "metadata": {
        "id": "R7_gArosld0B"
      },
      "source": [
        "predictions = predict_vote(models_list, test_loader, True)"
      ],
      "execution_count": null,
      "outputs": []
    },
    {
      "cell_type": "code",
      "metadata": {
        "id": "jFcQtC6flW5C"
      },
      "source": [
        "table = [decoder(predict) for predict in np.concatenate(predictions)]\n",
        "\n",
        "dataframe = pd.DataFrame(np.vstack(table))\n",
        "dataframe = dataframe.astype(int)\n",
        "dataframe = dataframe.astype(str)\n",
        "dataframe = pd.DataFrame(pd.Series(dataframe.apply(\"\".join, axis=1)))\n",
        "dataframe.columns = [\"Category\"]\n",
        "dataframe.index.name = \"# Id\"\n",
        "dataframe.to_csv(\"test.csv\", index=True)"
      ],
      "execution_count": null,
      "outputs": []
    },
    {
      "cell_type": "markdown",
      "metadata": {
        "id": "DS31Z4qNNfDL"
      },
      "source": [
        "## Get training and validation accuracy of all individual models and of bagging "
      ]
    },
    {
      "cell_type": "code",
      "metadata": {
        "colab": {
          "base_uri": "https://localhost:8080/"
        },
        "id": "1hQ5G90C0FVl",
        "outputId": "d244037c-0f96-4866-a099-6d6075d1506a"
      },
      "source": [
        "custom = Net()\n",
        "custom.load_state_dict(torch.load(\"./customnet.pth\"))\n",
        "custom.to(device)\n",
        "accuracy = test_accuracy(dataset_loader,custom)\n",
        "name = \"custom\"\n",
        "print(f\"{name} training accuracy: {accuracy}\")\n",
        "accuracy = test_accuracy(validation_loader,custom)\n",
        "print(f\"{name} validation accuracy: {accuracy}\")"
      ],
      "execution_count": null,
      "outputs": [
        {
          "output_type": "stream",
          "name": "stdout",
          "text": [
            "custom training accuracy: 0.9340416666666667\n",
            "custom validation accuracy: 0.9305\n"
          ]
        }
      ]
    },
    {
      "cell_type": "code",
      "metadata": {
        "id": "haUniA_oNbqH",
        "colab": {
          "base_uri": "https://localhost:8080/"
        },
        "outputId": "ed896db9-2780-4da7-cf4d-bd4f86db6192"
      },
      "source": [
        "densenet201 = models.densenet201(num_classes=260, pretrained=False)\n",
        "densenet201.features[0] = nn.Conv2d(\n",
        "    1, 64, kernel_size=(7, 7), stride=(2, 2), padding=(3, 3), bias=False\n",
        ")\n",
        "densenet201.load_state_dict(torch.load(\"./densenet.pth\"))\n",
        "densenet201.to(device)\n",
        "accuracy = test_accuracy(dataset_loader,densenet201)\n",
        "name = \"densenet201\"\n",
        "print(f\"{name} training accuracy: {accuracy}\")\n",
        "accuracy = test_accuracy(validation_loader,densenet201)\n",
        "print(f\"{name} validation accuracy: {accuracy}\")"
      ],
      "execution_count": null,
      "outputs": [
        {
          "output_type": "stream",
          "name": "stdout",
          "text": [
            "densenet201 training accuracy: 0.9801666666666666\n",
            "densenet201 validation accuracy: 0.9591666666666666\n"
          ]
        }
      ]
    },
    {
      "cell_type": "code",
      "metadata": {
        "colab": {
          "base_uri": "https://localhost:8080/"
        },
        "id": "YoqrcmWYOeY1",
        "outputId": "0aa40d5e-81c5-4056-8d94-a6860fb25c63"
      },
      "source": [
        "resnet152 = models.resnet152(num_classes=260, pretrained=False)\n",
        "resnet152.conv1 = nn.Conv2d(1, 64, kernel_size=7, stride=2, padding=3, bias=False)\n",
        "resnet152.load_state_dict(torch.load(\"./resnet152.pth\"))\n",
        "resnet152.to(device)\n",
        "accuracy = test_accuracy(dataset_loader,resnet152)\n",
        "name = \"resnet152\"\n",
        "print(f\"{name} training accuracy: {accuracy}\")\n",
        "accuracy = test_accuracy(validation_loader,resnet152)\n",
        "print(f\"{name} validation accuracy: {accuracy}\")"
      ],
      "execution_count": null,
      "outputs": [
        {
          "output_type": "stream",
          "name": "stdout",
          "text": [
            "resnet152 training accuracy: 0.96125\n",
            "resnet152 validation accuracy: 0.9585\n"
          ]
        }
      ]
    },
    {
      "cell_type": "code",
      "metadata": {
        "id": "JR9hqtc5SBVq"
      },
      "source": [
        "vgg19 = models.vgg19_bn(\n",
        "    num_classes=260,\n",
        "    pretrained=False,\n",
        ")\n",
        "vgg19.features[0] = nn.Conv2d(1, 64, kernel_size=(3, 3), stride=(1, 1), padding=(1, 1))\n",
        "vgg19.load_state_dict(torch.load(\"./vgg19_bn.pth\"))\n",
        "vgg19.to(device)\n",
        "accuracy = test_accuracy(dataset_loader,vgg19)\n",
        "name = \"vgg19\"\n",
        "print(f\"{name} training accuracy: {accuracy}\")\n",
        "accuracy = test_accuracy(validation_loader,vgg19)\n",
        "print(f\"{name} validation accuracy: {accuracy}\")"
      ],
      "execution_count": null,
      "outputs": []
    },
    {
      "cell_type": "code",
      "metadata": {
        "id": "6_5bOFfVSYp-"
      },
      "source": [
        "vgg16 = models.vgg16_bn(\n",
        "    num_classes=260,\n",
        "    pretrained=False,\n",
        ")\n",
        "vgg16.features[0] = nn.Conv2d(1, 64, kernel_size=(3, 3), stride=(1, 1), padding=(1, 1))\n",
        "vgg16.load_state_dict(torch.load(\"./vgg16_bn.pth\"))\n",
        "vgg16.to(device)\n",
        "accuracy = test_accuracy(dataset_loader,vgg16)\n",
        "name = \"vgg16\"\n",
        "print(f\"{name} training accuracy: {accuracy}\")\n",
        "accuracy = test_accuracy(validation_loader,vgg16)\n",
        "print(f\"{name} validation accuracy: {accuracy}\")"
      ],
      "execution_count": null,
      "outputs": []
    },
    {
      "cell_type": "code",
      "metadata": {
        "id": "puNLvpEL6XAN"
      },
      "source": [
        "model = MyEnsemble(densenet201, resnet18, vgg16, custom_net,260)\n",
        "\n",
        "models_list = [\n",
        "    vgg19.to(device),\n",
        "    vgg16.to(device),\n",
        "    resnet152.to(device),\n",
        "    densenet201.to(device),\n",
        "]\n",
        "\n",
        "ensemble_predict = predict_vote(models_list, dataset_loader)\n",
        "correct = 0\n",
        "total = 0\n",
        "for i, data in enumerate(dataset_loader):\n",
        "    _, labels = data[0].to(device), data[1].to(device)\n",
        "\n",
        "    total += labels.size(0)\n",
        "    correct += (torch.Tensor(ensemble_predict[i]).cuda() == labels).sum().item()\n",
        "print(f\"ensemble training accuracy: {correct/total}\")\n",
        "\n",
        "ensemble_predict = predict_vote(models_list, validation_loader)\n",
        "correct = 0\n",
        "total = 0\n",
        "for i, data in enumerate(validation_loader):\n",
        "    _, labels = data[0].to(device), data[1].to(device)\n",
        "\n",
        "    total += labels.size(0)\n",
        "    correct += (torch.Tensor(ensemble_predict[i]).cuda() == labels).sum().item()\n",
        "print(f\"ensemble validation accuracy: {correct/total}\")"
      ],
      "execution_count": null,
      "outputs": []
    },
    {
      "cell_type": "code",
      "metadata": {
        "id": "QV7i5I2Z1uk2"
      },
      "source": [
        "model_accs = {'Custom Network': (0.968, 0.930),\n",
        "          'ResNet152': (0.988, 0.964),\n",
        "          'DenseNet201': (0.997, 0.968),\n",
        "          'VGG19': (0.989,0.971),\n",
        "          'VGG19 no rotation': (0.99,0.963),\n",
        "          'regnet_y_400mf':(0.971,0.9335),\n",
        "          'VGG16': (0.995,0.971),\n",
        "          'Ensemble': (0.989,0.971)\n",
        "          }\n"
      ],
      "execution_count": null,
      "outputs": []
    },
    {
      "cell_type": "code",
      "metadata": {
        "colab": {
          "base_uri": "https://localhost:8080/",
          "height": 371
        },
        "id": "nh2Kc8nc1bn_",
        "outputId": "381c9b3b-55b3-463a-ac7c-d6aae12c8d55"
      },
      "source": [
        "def model_comparison(models):\n",
        "    names = models.keys()\n",
        "    training_acc = [models[model][0] for model in names]\n",
        "    validation_acc = [models[model][1] for model in names]\n",
        "    fig, ax = plt.subplots(figsize=(12,5))#figsize=(10,5))\n",
        "    # set labels\n",
        "    ax.set_xlabel('Models')\n",
        "    ax.set_ylim(0.9, 1)\n",
        "    ax.yaxis.set_major_formatter(mtick.PercentFormatter(xmax=1, decimals=2))\n",
        "    ax.set_ylabel(\"Accuracy\")\n",
        "\n",
        "    # plot\n",
        "    plt.suptitle(\"Validation accuracy for each individual model and ensemble model\")\n",
        "    ax.errorbar(names, training_acc, yerr=None, capsize=5, fmt='bo', linestyle='', label='Training')\n",
        "    ax.errorbar(names, validation_acc, yerr=None, capsize=5, fmt='ro', linestyle='', label='Validation')\n",
        "    plt.legend(loc='lower right')\n",
        "    plt.plot()\n",
        "model_comparison(model_accs)"
      ],
      "execution_count": null,
      "outputs": [
        {
          "output_type": "display_data",
          "data": {
            "image/png": "[encoded data removed]",
            "text/plain": [
              "<Figure size 864x360 with 1 Axes>"
            ]
          },
          "metadata": {
            "needs_background": "light"
          }
        }
      ]
    },
    {
      "cell_type": "markdown",
      "metadata": {
        "id": "UYeKeXCEWgb2"
      },
      "source": [
        "## Utilizing Unlabeled Data\n",
        "We will predict the labels for the unlabeled data with voting, then train each model on these assigned labels"
      ]
    },
    {
      "cell_type": "code",
      "metadata": {
        "id": "G6ixnMORWpaH"
      },
      "source": [
        "# train the network\n",
        "def train_model_on_specifit_dataset(net,criterion,optimizer,num_epochs,loader):\n",
        "    for epoch in range(num_epochs):  # loop over the dataset multiple times\n",
        "        print(\"Training epoch %d\" % (epoch+1))\n",
        "        \n",
        "        running_loss = 0.0\n",
        "        for i, data in enumerate(loader, 0):\n",
        "            # get the inputs; data is a list of [inputs, labels]\n",
        "    \n",
        "            inputs, labels = data[0].to(device), data[1].to(device)\n",
        "            # zero the parameter gradients\n",
        "            optimizer.zero_grad()\n",
        "\n",
        "            # forward + backward + optimize\n",
        "            outputs = net(inputs.float())\n",
        "        \n",
        "            loss = criterion(outputs, labels)\n",
        "            loss.backward()\n",
        "            optimizer.step()\n",
        "            # print statistics\n",
        "            running_loss += loss.item()\n",
        "            if i % 50 == 49:    # print every 20 mini-batches\n",
        "                print('\\t[Minibatches %d] loss: %.4f' %\n",
        "                    (i + 1, running_loss / 50))\n",
        "                running_loss = 0.0      "
      ],
      "execution_count": null,
      "outputs": []
    },
    {
      "cell_type": "code",
      "metadata": {
        "id": "GPLpB_I_WqAb"
      },
      "source": [
        "# Importing and Reading files\n",
        "with open(\"images_ul.pkl\", \"rb\") as f:\n",
        "    unlabeled_data = pickle.load(f)"
      ],
      "execution_count": null,
      "outputs": []
    },
    {
      "cell_type": "code",
      "metadata": {
        "id": "uUrLnqeZWs67"
      },
      "source": [
        "# 5 SPLITS\n",
        "\n",
        "for i in range(1):\n",
        "    unlabeled_split = unlabeled_data[(i * 6000):(i + 1) * 6000]\n",
        "    \n",
        "    # print(unlabeled_split)\n",
        "    \n",
        "    # PREDICT AND LABEL DATA\n",
        "    cur_dataset = MyCustomDataset(unlabeled_split,transforms=transforms.Compose(\n",
        "            [\n",
        "                transforms.ToTensor(),\n",
        "                transforms.Normalize(np.mean(unlabeled_split), np.std(unlabeled_split)),\n",
        "            ]\n",
        "        ))\n",
        "    \n",
        "    cur_loader = torch.utils.data.DataLoader(dataset=cur_dataset, batch_size=128,shuffle=False)\n",
        "    predictions = predict_vote(models_list,cur_loader,True)\n",
        "\n",
        "    prediction = [int(p) for p in np.concatenate(predictions)]\n",
        "    \n",
        "    train_dataset = MyCustomDataset(\n",
        "        unlabeled_split,\n",
        "        prediction,\n",
        "        transforms.Compose(\n",
        "            [\n",
        "                transforms.ToTensor(),\n",
        "                transforms.Normalize(np.mean(unlabeled_split), np.std(unlabeled_split)),\n",
        "                torchvision.transforms.RandomAffine(\n",
        "                    5, translate=(0.1, 0.1), scale=(0.9, 1.1), shear=0.1\n",
        "                ),\n",
        "            ]\n",
        "        ),\n",
        "    )\n",
        "    train_loader = torch.utils.data.DataLoader(dataset=train_dataset, batch_size=128,shuffle=False)\n",
        "\n",
        "    print(\"Training vgg19_NO_ROTATIONS on subset number \",(i+1))\n",
        "    train_model_on_specifit_dataset(vgg19_NO_ROTATIONS.to(device),nn.CrossEntropyLoss(),optim.SGD(vgg19_NO_ROTATIONS.parameters(), lr=0.0001, momentum=0.9),10, train_loader)\n",
        "\n",
        "    print(\"Training vgg16 on subset number \",(i+1))\n",
        "    train_model_on_specifit_dataset(vgg16.to(device),nn.CrossEntropyLoss(),optim.SGD(vgg16.parameters(), lr=0.0001, momentum=0.9),10, train_loader)\n",
        "\n",
        "    print(\"Training vgg19 on subset number \",(i+1))\n",
        "    train_model_on_specifit_dataset(vgg19.to(device),nn.CrossEntropyLoss(),optim.SGD(vgg19.parameters(), lr=0.0001, momentum=0.9),10, train_loader)\n",
        "\n",
        "    print(\"Training densenet201 on subset number \", (i+1))\n",
        "    train_model_on_specifit_dataset(densenet201.to(device), nn.CrossEntropyLoss(), optim.Adam(densenet201.parameters(), lr=0.00001, weight_decay=1e-5), 10, train_loader)\n",
        "\n",
        "    print(\"Training regnet_y_400mf on subset number \",(i+1))\n",
        "    train_model_on_specifit_dataset(regnet_y_400mf.to(device),nn.CrossEntropyLoss(),optim.Adam(regnet_y_400mf.parameters(), lr=0.0001, weight_decay=1e-5),10, train_loader)\n",
        "    \n",
        "    print(\"Training resnet18 on subset number \",(i+1))\n",
        "    train_model_on_specifit_dataset(resnet18.to(device),nn.CrossEntropyLoss(),optim.Adam(resnet18.parameters(), lr=0.0001, weight_decay=1e-5),10, train_loader)\n",
        "    \n",
        "    print(\"Training resnet152 on subset number \",(i+1))\n",
        "    train_model_on_specifit_dataset(resnet152.to(device),nn.CrossEntropyLoss(),optim.Adam(resnet152.parameters(), lr=0.0001, weight_decay=1e-5),10, train_loader)\n",
        "    \n",
        "    print(\"Training custom_net on subset number \",(i+1))\n",
        "    train_model_on_specifit_dataset(custom_net, nn.CrossEntropyLoss(),optim.Adam(custom_net.parameters(),lr=0.0005,weight_decay=1e-5),10, train_loader)\n",
        "    \n",
        "    print(\"Training model on subset number \",(i+1))\n",
        "    train_model_on_specifit_dataset(model, nn.CrossEntropyLoss(),optim.Adam(model.parameters(),lr=0.0005,weight_decay=1e-5),10, train_loader)\n",
        "\n",
        "    print(\"Training mnasnet0_5 on subset number \",(i+1))\n",
        "    train_model_on_specifit_dataset(mnasnet0_5.to(device),nn.CrossEntropyLoss(),optim.Adam(mnasnet0_5.parameters(), lr=0.001, weight_decay=1e-5),10, train_loader)"
      ],
      "execution_count": null,
      "outputs": []
    },
    {
      "cell_type": "markdown",
      "metadata": {
        "id": "Cw4eMci4XoqO"
      },
      "source": [
        "## Predicting On Test Set For Submission"
      ]
    },
    {
      "cell_type": "code",
      "metadata": {
        "id": "KmN2UxmhXtN5"
      },
      "source": [
        "predictions = predict_vote(models_list, test_loader, True)"
      ],
      "execution_count": null,
      "outputs": []
    },
    {
      "cell_type": "code",
      "metadata": {
        "id": "x4OUy9ryXvKf"
      },
      "source": [
        "table = [decoder(predict) for predict in np.concatenate(predictions)]\n",
        "\n",
        "dataframe = pd.DataFrame(np.vstack(table))\n",
        "dataframe = dataframe.astype(int)\n",
        "dataframe = dataframe.astype(str)\n",
        "dataframe = pd.DataFrame(pd.Series(dataframe.apply(\"\".join, axis=1)))\n",
        "dataframe.columns = [\"Category\"]\n",
        "dataframe.index.name = \"# Id\"\n",
        "dataframe.to_csv(\"test.csv\", index=True)"
      ],
      "execution_count": null,
      "outputs": []
    },
    {
      "cell_type": "markdown",
      "metadata": {
        "id": "7BcrdRuSWcbk"
      },
      "source": [
        "#**Miscellaneous**"
      ]
    },
    {
      "cell_type": "markdown",
      "metadata": {
        "id": "oLjUFd3pWpYc"
      },
      "source": [
        "###Compare our model's performance for different data augmentation techniques"
      ]
    },
    {
      "cell_type": "code",
      "metadata": {
        "id": "dG2FXSW3WhpD"
      },
      "source": [
        "def plot_training_and_validation_on_different_data(title, model, results, data_names, color_names, add_line=None):\n",
        "    fig, ax0 = plt.subplots()\n",
        "\n",
        "    ax0.set_xlabel(\"Number of iterations\")\n",
        "    ax0.set_ylabel(\"Accuracy\")\n",
        "    ax0.tick_params(axis=\"y\", labelcolor=\"b\")\n",
        "    ax0.legend([\"Training accuracy\", \"Validation accuracy\"])\n",
        "\n",
        "    ax0.set_title(title)\n",
        "\n",
        "\n",
        "    for result, data_name, color_name in zip(results, data_names, color_names):\n",
        "        # just plot the training accuracy for the other models \n",
        "        training_acc = result[:, 0]\n",
        "        ax0.plot(range(len(result)), training_acc, color=color_name)\n",
        "\n",
        "    fig.tight_layout()\n",
        "    plt.show()\n"
      ],
      "execution_count": null,
      "outputs": []
    },
    {
      "cell_type": "markdown",
      "metadata": {
        "id": "M1oIGd27Wr39"
      },
      "source": [
        "###Plot training vs validation accuracy for our custom model, and training accuracies of all other models"
      ]
    },
    {
      "cell_type": "code",
      "metadata": {
        "id": "m8h-b-s-Wxcg"
      },
      "source": [
        "def plot_training_versus_validation(title, models, results, add_line=None):\n",
        "    fig, ax0 = plt.subplots()\n",
        "\n",
        "    ax0.set_xlabel(\"Number of iterations\")\n",
        "    ax0.set_ylabel(\"Accuracy\")\n",
        "    ax0.tick_params(axis=\"y\", labelcolor=\"b\")\n",
        "    ax0.legend([\"Training accuracy\", \"Validation accuracy\"])\n",
        "\n",
        "    ax0.set_title(title)\n",
        "\n",
        "\n",
        "    # plot our custom model a different color than all other models\n",
        "    training_acc = results[0][:, 0]\n",
        "    val_acc = results[0][:, 1]\n",
        "\n",
        "    ax0.plot(range(len(results)), training_acc, color=\"navyblue\")\n",
        "    ax0.plot(range(len(results)), val_acc, color=\"salmon\")\n",
        "\n",
        "\n",
        "    for model, result in zip(models[1:], results[1:]):\n",
        "        # just plot the training accuracy for the other models \n",
        "        training_acc = result[:, 0]\n",
        "        ax0.plot(range(len(result)), training_acc, color=\"khaki\")\n",
        "\n",
        "    fig.tight_layout()\n",
        "    plt.show()"
      ],
      "execution_count": null,
      "outputs": []
    },
    {
      "cell_type": "markdown",
      "metadata": {
        "id": "qI3bNLk6W7LE"
      },
      "source": [
        "#### Custom transformation class"
      ]
    },
    {
      "cell_type": "code",
      "metadata": {
        "id": "xcmK-SOKW6DV"
      },
      "source": [
        "class CustomTransformations(object):\n",
        "    def __init__(self, draw_box=False, blur=False, denoise=False, angle=0):\n",
        "      self.draw_box = draw_box\n",
        "      self.blur = blur\n",
        "      self.denoise = denoise\n",
        "      self.angle = angle\n",
        "\n",
        "    # draw bounding boxes around the large features\n",
        "    def __call__(self, img):\n",
        "        img = img.astype(np.float64)\n",
        "        img = img[:,:]\n",
        "        img = self.rotate_image(img)\n",
        "        if self.blur:\n",
        "            img = self.blurImage(img)\n",
        "        if self.denoise:\n",
        "            img = self.removeNoise(img)\n",
        "        if self.draw_box:\n",
        "            img = self.drawBox(img)\n",
        "        return img.astype(np.float64)\n",
        "        \n",
        "    def __repr__(self):\n",
        "        return self.__class__.__name__+'()'\n",
        "\n",
        "    def drawBox(self,img):\n",
        "        contours, hierarchy  = cv2.findContours(img, cv2.RETR_CCOMP, cv2.CHAIN_APPROX_SIMPLE)\n",
        "        for c in contours:\n",
        "            x,y,w,h = cv2.boundingRect(c)\n",
        "            if (w >= 10 and w <= 50) and (h >= 10 and h <= 50):\n",
        "                img = cv2.rectangle(img,(x,y),(x+w,y+h),(150),1)\n",
        "        return img\n",
        "\n",
        "    def removeNoise(self,img, threshold = 7):\n",
        "        img[img < threshold] = 0\n",
        "        return img\n",
        "\n",
        "    def blurImage(self,img, sigma=2):\n",
        "        img = cv2.resize(img, dsize=(100, 100), interpolation=cv2.INTER_CUBIC)\n",
        "        img = cv2.GaussianBlur(img, (3,3), 2)\n",
        "        img = cv2.resize(img, dsize=(56, 56), interpolation=cv2.INTER_CUBIC)\n",
        "        return img\n",
        "\n",
        "    def rotate_image(self,mat):\n",
        "\n",
        "        # Source: https://stackoverflow.com/questions/43892506/opencv-python-rotate-image-without-cropping-sides\n",
        "        height, width = mat.shape[:2] # image shape has 3 dimensions\n",
        "        image_center = (width/2, height/2) # getRotationMatrix2D needs coordinates in reverse order (width, height) compared to shape\n",
        "        rotation_mat = cv2.getRotationMatrix2D(image_center, self.angle, 1.)\n",
        "\n",
        "        # rotation calculates the cos and sin, taking absolutes of those.\n",
        "        abs_cos = abs(rotation_mat[0,0]) \n",
        "        abs_sin = abs(rotation_mat[0,1])\n",
        "\n",
        "        # find the new width and height bounds\n",
        "        bound_w = int(height * abs_sin + width * abs_cos)\n",
        "        bound_h = int(height * abs_cos + width * abs_sin)\n",
        "\n",
        "        # # subtract old image center (bringing image back to origo) and adding the new image center coordinates\n",
        "        rotation_mat[0, 2] += bound_w/2 - image_center[0]\n",
        "        rotation_mat[1, 2] += bound_h/2 - image_center[1]\n",
        "\n",
        "        # rotate image with the new bounds and translated rotation matrix\n",
        "        rotated_mat = cv2.warpAffine(mat, rotation_mat, (bound_w, bound_h))\n",
        "        return cv2.resize(rotated_mat, dsize=(56, 56), interpolation=cv2.INTER_CUBIC)"
      ],
      "execution_count": null,
      "outputs": []
    },
    {
      "cell_type": "markdown",
      "metadata": {
        "id": "07ZNics9XC2Y"
      },
      "source": [
        "#### Adding the augmented data to the original data"
      ]
    },
    {
      "cell_type": "code",
      "metadata": {
        "id": "ybMkxY_OXBp5"
      },
      "source": [
        "# data_augmented1 = np.copy(data)\n",
        "# data_augmented2 = np.copy(data)\n",
        "# data_augmented3 = np.copy(data)\n",
        "\n",
        "# ct1 = CustomTransformations(draw_box=False, blur=False, denoise=False, angle=20)\n",
        "# ct2 = CustomTransformations(draw_box=False, blur=False, denoise=False, angle=-20)\n",
        "# ct3 = CustomTransformations(draw_box=False, blur=False, denoise=False, angle=-20)\n",
        "\n",
        "\n",
        "# for i, im in enumerate(data_augmented1):\n",
        "#     data_augmented1[i] = ct1.__call__(im)\n",
        "#     data_augmented2[i] = ct2.__call__(im)\n",
        "#     data_augmented3[i] = ct3.__call__(im)\n",
        "\n",
        "# # merge with original data and shuffle\n",
        "# data = np.vstack((data,data_augmented1, data_augmented2, data_augmented3))\n",
        "# labels = np.vstack((labels, labels.copy(), labels.copy(), labels.copy()))\n",
        "# print(data.shape)\n",
        "# print(labels.shape)\n",
        "\n",
        "# np.random.seed(1)\n",
        "# np.random.shuffle(data)\n",
        "# np.random.seed(1)\n",
        "# np.random.shuffle(labels)"
      ],
      "execution_count": null,
      "outputs": []
    }
  ]
}